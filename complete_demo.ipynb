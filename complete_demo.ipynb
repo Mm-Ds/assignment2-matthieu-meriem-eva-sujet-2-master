{
  "nbformat": 4,
  "nbformat_minor": 0,
  "metadata": {
    "accelerator": "GPU",
    "colab": {
      "name": "PSD_Embedding.ipynb",
      "provenance": [],
      "collapsed_sections": []
    },
    "kernelspec": {
      "display_name": "Python 3",
      "name": "python3"
    }
  },
  "cells": [
    {
      "cell_type": "markdown",
      "metadata": {
        "id": "7COEU72sKU0D"
      },
      "source": [
        "Démonstration Français-Anglais"
      ]
    },
    {
      "cell_type": "code",
      "metadata": {
        "id": "xHIujzK4tlDM"
      },
      "source": [
        "from sklearn.decomposition import PCA\n",
        "import matplotlib.pyplot as plt\n",
        "import numpy as np\n",
        "from scipy.spatial.distance import cdist, cosine\n",
        "import torch         \n",
        "\n",
        "from scipy.linalg import svd\n",
        "import tensorflow as tf\n",
        "from tensorflow import keras\n",
        "from keras.models import Sequential, Model\n",
        "from keras.layers import Dense, Dropout, LeakyReLU, Input, BatchNormalization, GaussianNoise\n",
        "from keras.optimizers import SGD, Adagrad\n",
        "from keras.losses import BinaryCrossentropy\n",
        "from keras.utils import plot_model\n",
        "\n",
        "from time import time\n",
        "import pickle\n",
        "import pandas as pd\n",
        "\n",
        "#pour les embeddings BERT et camemBERT\n",
        "!pip install transformers\n",
        "from transformers import BertTokenizer, BertModel, BertConfig\n",
        "from transformers.tokenization_camembert import CamembertTokenizer\n",
        "from transformers import CamembertConfig\n",
        "from transformers.modeling_camembert import CamembertModel\n",
        "\n",
        "#Chargement Pour les embeddings FastText\n",
        "! curl -Lo wiki.en.vec https://dl.fbaipublicfiles.com/fasttext/vectors-wiki/wiki.en.vec\n",
        "! curl -Lo wiki.fr.vec https://dl.fbaipublicfiles.com/fasttext/vectors-wiki/wiki.fr.vec\n",
        "\n",
        "#Pour les dictionaires\n",
        "!wget https://dl.fbaipublicfiles.com/arrival/dictionaries.tar.gz\n",
        "!tar -xf dictionaries.tar.gz"
      ],
      "execution_count": null,
      "outputs": []
    },
    {
      "cell_type": "markdown",
      "metadata": {
        "id": "HgmCEfkwRgQ7"
      },
      "source": [
        "Classe définissant une langue (commune à tous les usages ci-bas)"
      ]
    },
    {
      "cell_type": "code",
      "metadata": {
        "id": "IQJ_rzL0XreV"
      },
      "source": [
        "class Language:\n",
        "    def __init__(self, name, file_path):\n",
        "        self.name = name\n",
        "        \n",
        "        f = open(file_path, \"r\")\n",
        "        lines = f.readlines(int(1e8))[1:]\n",
        "        f.close()\n",
        " \n",
        "        self.vec, self.voc = get_vectors(lines, 2)\n",
        "        self.embd_size = self.vec.shape[1]\n",
        "        self.voc_size = self.vec.shape[0]\n",
        "        \n",
        " \n",
        "    def most_similar(self, positive, negative, n=1):\n",
        "        v = np.zeros((1,self.embd_size))\n",
        " \n",
        "        for neg in negative:\n",
        "            i = np.where(self.voc == neg)[0][0]\n",
        "            v -= self.vec[i]\n",
        " \n",
        "        for pos in positive:\n",
        "            i = np.where(self.voc == pos)[0][0]\n",
        "            v += self.vec[i]\n",
        " \n",
        "        distances = cdist(v, self.vec, metric=\"cosine\")[0]\n",
        "        indices = np.argsort(distances)[:n]\n",
        "        d = [(self.voc[i], distances[i]) for i in indices]\n",
        " \n",
        "        return d, v\n",
        " \n",
        " \n",
        "def get_vectors(lines, word_min_len):\n",
        "    vectors = []\n",
        "    words = []\n",
        "    for line in lines:\n",
        "        v = line.rstrip().split(' ')[1:]\n",
        "        w = line.rstrip().split(' ')[0]\n",
        " \n",
        "        if(len(w) >= word_min_len):\n",
        "            vectors.append(v)\n",
        "            words.append(w)\n",
        "   \n",
        "    vectors = np.array(vectors).astype(\"float32\")\n",
        "    words = np.array(words)\n",
        " \n",
        "    return vectors, words"
      ],
      "execution_count": 2,
      "outputs": []
    },
    {
      "cell_type": "markdown",
      "metadata": {
        "id": "BEPSQvzUualK"
      },
      "source": [
        "# I- Manipulation des Embeddings"
      ]
    },
    {
      "cell_type": "code",
      "metadata": {
        "id": "hJC8BmzjXuCh"
      },
      "source": [
        "en = Language(\"english\", \"wiki.en.vec\")\n",
        "fr = Language(\"french\", \"wiki.fr.vec\")"
      ],
      "execution_count": 3,
      "outputs": []
    },
    {
      "cell_type": "markdown",
      "metadata": {
        "id": "tmNsV0gJVqhs"
      },
      "source": [
        "## Additivité des embeddings"
      ]
    },
    {
      "cell_type": "markdown",
      "metadata": {
        "id": "vvezArUyLfcO"
      },
      "source": [
        "### Embeddings FastText"
      ]
    },
    {
      "cell_type": "code",
      "metadata": {
        "colab": {
          "base_uri": "https://localhost:8080/"
        },
        "id": "S8mVFjNK6IQs",
        "outputId": "211aa69f-4552-4ea2-a6cf-2f91221e25db"
      },
      "source": [
        "print(fr.most_similar(positive=[\"reine\", \"fils\"], negative=[\"roi\"], n=3)[0])\n",
        "print(en.most_similar(positive=[\"king\", \"daughter\"], negative=[\"queen\"], n=3)[0])\n",
        "print(en.most_similar([\"france\", \"london\"], [\"paris\"], 3)[0])\n",
        "print(en.most_similar([\"his\", \"woman\"], [\"man\"] , 3)[0])"
      ],
      "execution_count": null,
      "outputs": [
        {
          "output_type": "stream",
          "text": [
            "[('fille', 0.3345863085156682), ('sœur', 0.34031535896605214), ('fils', 0.3440339465691806)]\n",
            "[('son', 0.24541592450735095), ('daughter', 0.26853436514483564), ('grandson', 0.31381364708011383)]\n",
            "[('britain', 0.32707504641660723), ('london', 0.3368515471249046), ('england', 0.3409831671550798)]\n",
            "[('her', 0.26435637196236983), ('his', 0.33542223620652734), ('she', 0.40407276146948645)]\n"
          ],
          "name": "stdout"
        }
      ]
    },
    {
      "cell_type": "code",
      "metadata": {
        "colab": {
          "base_uri": "https://localhost:8080/",
          "height": 265
        },
        "id": "SznK0aJf0-gw",
        "outputId": "483319ff-fc60-431c-df9d-9c7c9ba6f344"
      },
      "source": [
        "def f(langue, l):\n",
        "    vec = []\n",
        "    label = []\n",
        "    for i in l:\n",
        "        m, v = langue.most_similar(i[\"positive\"], i[\"negative\"], 1)\n",
        "        vec.append(v[0,:])\n",
        "        label.append(\"-\".join([\"+\".join(i[\"positive\"])] + i[\"negative\"]))\n",
        "        vec.append(langue.vec[np.where(langue.voc == m[0][0])[0][0]])\n",
        "        \n",
        "        label.append(m[0][0])\n",
        "    vec = np.array(vec)\n",
        "    \n",
        "    pca = PCA(2)\n",
        "    pca.fit(vec)\n",
        "    points = pca.transform(vec)\n",
        "    plt.scatter(points[:,0], points[:,1])\n",
        "    \n",
        "    for i in range(points.shape[0]):\n",
        "        plt.annotate(label[i], (points[i,0], points[i,1]))\n",
        "\n",
        "f(en, [{\"positive\":[\"his\", \"woman\"], \"negative\":[\"man\"]}\n",
        "       , {\"positive\":[\"king\", \"daughter\"], \"negative\":[\"queen\"]}\n",
        "       , {\"positive\":[\"france\", \"london\"], \"negative\":[\"paris\"]}])"
      ],
      "execution_count": null,
      "outputs": [
        {
          "output_type": "display_data",
          "data": {
            "image/png": "[encoded data removed]",
            "text/plain": [
              "<Figure size 432x288 with 1 Axes>"
            ]
          },
          "metadata": {
            "tags": []
          }
        }
      ]
    },
    {
      "cell_type": "markdown",
      "metadata": {
        "id": "i6YTVeZSL3IS"
      },
      "source": [
        "###Embeddings BERT et cameBERT"
      ]
    },
    {
      "cell_type": "code",
      "metadata": {
        "id": "Wm-VgAxWPQD0"
      },
      "source": [
        "#Chargement des modèles \n",
        "\n",
        "#pour le français:\n",
        "# camembert_tokenizer = CamembertTokenizer.from_pretrained(\"camembert-base\")    \n",
        "# config = CamembertConfig.from_pretrained(\"camembert-base\", output_hidden_states=True)\n",
        "# camembert_model = CamembertModel.from_pretrained(\"camembert-base\", config=config)\n",
        "# camembert_model.eval()\n",
        "\n",
        "#pour l'anglais:\n",
        "bert_tokenizer = BertTokenizer.from_pretrained('bert-base-uncased')\n",
        "config = BertConfig.from_pretrained('bert-base-uncased', output_hidden_states=True)\n",
        "bert_model = BertModel.from_pretrained(\"bert-base-uncased\", config=config)\n",
        "bert_model.eval()"
      ],
      "execution_count": null,
      "outputs": []
    },
    {
      "cell_type": "code",
      "metadata": {
        "colab": {
          "base_uri": "https://localhost:8080/",
          "height": 265
        },
        "id": "OzdP7KpAyH_G",
        "outputId": "97bc0054-4066-421b-a463-c4ba3400a206"
      },
      "source": [
        " #https://huggingface.co/camembert-base\n",
        " #https://stackoverflow.com/questions/59030907/nlp-transformers-best-way-to-get-a-fixed-sentence-embedding-vector-shape\n",
        "\n",
        "def get_embedding(word, model, tokenizer):\n",
        "    \n",
        "    token_ids = tokenizer.encode(word)\n",
        "    if len(token_ids)==3:               # si le mot est dans le vocabulaire (sinon il aura été fragmenté et il y aurait eu plus de 3 tokens)\n",
        "      \n",
        "      tokens = [tokenizer._convert_id_to_token(idx) for idx in token_ids]\n",
        "      token_ids = torch.tensor(token_ids).unsqueeze(0)     \n",
        "      embd, _, all_layers_embeddings  = model(token_ids)\n",
        "      unsq= lambda x: x.squeeze(0) \n",
        "      all_layers_embeddings = list(map(unsq, all_layers_embeddings))    \n",
        "      embedding=np.sum(all_layers_embeddings[-4:])[1]\n",
        "      embedding.detach().numpy() \n",
        "\n",
        "    else: \n",
        "      embedding =np.repeat(np.NaN, 768)  #la taille d'un vecteur camemBERT est de 768\n",
        "    \n",
        "    return  embedding\n",
        "\n",
        "def plot_vecs(mots, vecs, len_first):\n",
        "    \n",
        "    vecs =(torch.stack(vecs)).detach().numpy()\n",
        "    \n",
        "    pca = PCA(2)\n",
        "    pca.fit(vecs)\n",
        "    points = pca.transform(vecs)\n",
        "    plt.scatter(points[:len_first,0], points[:len_first,1], c='red')\n",
        "    plt.scatter(points[len_first:,0], points[len_first:,1], c='blue')    \n",
        "    \n",
        "    for i in range(points.shape[0]):\n",
        "        plt.annotate(mots[i], (points[i,0], points[i,1]))\n",
        "\n",
        "\n",
        "mots_init=[\"france\",\"london\",\"paris\",\"britain\",\"king\",\"daughter\",\"queen\",\"son\",\"his\",\"woman\",\"man\",\"her\"]\n",
        "vecs, mots1=[], []\n",
        "do=0\n",
        "for i,mot in enumerate(mots_init):\n",
        "  vecs.append(get_embedding(mot, bert_model, bert_tokenizer))\n",
        "  mots1.append(mot)\n",
        "  \n",
        "  if i%2==0 and i!=0:\n",
        "    do=1-do\n",
        "    if do:\n",
        "      vecs.append(vecs[i-2]+vecs[i-1]-vecs[i])\n",
        "      mots1.append(mots_init[i-2]+\"+\"+mots_init[i-1]+\"-\"+mots_init[i])\n",
        "\n",
        "mots2=[\"twice\",\"far\", \"land\", \"golden\",\"baseball\", \"europe\",\"data\"]   \n",
        "vecs2=[]\n",
        "for mot in mots2:\n",
        "  vecs2.append(get_embedding(mot, bert_model, bert_tokenizer))\n",
        "mots=mots1+mots2\n",
        "vecs=vecs+vecs2\n",
        "plot_vecs(mots, vecs, len(mots1))\n",
        "#le but du graphique en utilisant des embeddings BERT/camemBERT est de montrer que ces proriétés sur les espaces des embeddings sont vraies\n",
        "#pour tous les embeddings (issus de Word2Vec ou autres modèles) mais le graphique tel qu'il est ci-bas ne le montre pas.\n",
        "#Je pense qu'il est important (meme pour le graphe d'en haut) d'ajouter, en plus des mots d'illustration, d'autres mots; pour montrer la proximité qu'on veut\n",
        "#montrer (pcq c'est relatif, il faut avoir plus de mots dans les alentours pour voir la proximité )"
      ],
      "execution_count": null,
      "outputs": [
        {
          "output_type": "display_data",
          "data": {
            "image/png": "[encoded data removed]",
            "text/plain": [
              "<Figure size 432x288 with 1 Axes>"
            ]
          },
          "metadata": {
            "tags": []
          }
        }
      ]
    },
    {
      "cell_type": "markdown",
      "metadata": {
        "id": "wcIh5h44PqXi"
      },
      "source": [
        "#II- Traduction "
      ]
    },
    {
      "cell_type": "markdown",
      "metadata": {
        "id": "YA1M9wkiVzuG"
      },
      "source": [
        "##Définitions"
      ]
    },
    {
      "cell_type": "code",
      "metadata": {
        "id": "_GDTSnLYF_Qs"
      },
      "source": [
        " class Translator:\n",
        "    def __init__(self, source_language, target_language):\n",
        "        self.source = source_language\n",
        "        self.target = target_language\n",
        "        self.W = np.zeros((self.target.embd_size, self.source.embd_size))\n",
        " \n",
        " \n",
        "    def translate(self, words, n=1):\n",
        "        # words : liste de mots\n",
        "        # n : nombre de traductions voulues\n",
        " \n",
        "        vectors = np.zeros((len(words), self.source.embd_size))\n",
        " \n",
        "        for i, w in enumerate(words):\n",
        "            j = np.where(self.source.voc == w)[0]\n",
        "            if len(j) > 0: \n",
        "                vectors[i] = self.source.vec[j]\n",
        "            else: # w n'est pas dans le voc\n",
        "                vectors[i] = np.repeat(np.NaN, self.source.embd_size)\n",
        " \n",
        "        trslt_vec = np.dot(vectors, self.W)\n",
        " \n",
        "        distances = cdist(trslt_vec, self.target.vec, metric=\"cosine\") \n",
        "        indices = np.argsort(distances, axis=1)[:,:n]\n",
        "        translations = self.target.voc[indices]\n",
        "        \n",
        "        return [(words[i], list(translations[i])) for i in range(len(words))]\n",
        "\n",
        "    def process(self, dictionary):\n",
        "    # dictionary : data frame avec une colonne par langue et une ligne par paire de mot\n",
        "\n",
        "      X = []\n",
        "      y = []\n",
        "      dic = {}\n",
        "\n",
        "      if dictionary is None: #construction d'un dicionaire avec les mots identiques seulement\n",
        "          inverse_index = { element: index for index, element in enumerate(self.target.voc) }\n",
        "          for index, element in enumerate(self.source.voc):\n",
        "              if element in inverse_index:\n",
        "                  X.append(self.source.vec[index])\n",
        "                  y.append(self.target.vec[inverse_index[element]])\n",
        "                  dic[element] = [self.target.voc[inverse_index[element]]]\n",
        "      else:\n",
        "          for i in range(dictionary.shape[0]):\n",
        "              source_word = dictionary.iloc[i,:][self.source.name]\n",
        "              target_word = dictionary.iloc[i,:][self.target.name]\n",
        "              i1 = np.where(self.source.voc == source_word)[0]\n",
        "              i2 = np.where(self.target.voc == target_word)[0]\n",
        "\n",
        "              if len(i1)*len(i2) > 0: # les deux mots sont dans le voc de leur langue respective\n",
        "                  v1 = self.source.vec[i1[0]]\n",
        "                  v2 = self.target.vec[i2[0]]\n",
        "\n",
        "                  X.append(v1)\n",
        "                  y.append(v2)\n",
        "\n",
        "                  if self.source.voc[i1[0]] not in dic.keys():\n",
        "                      dic[source_word] = []\n",
        "                  dic[source_word].append(target_word)\n",
        "\n",
        "      return np.array(X), np.array(y), dic\n",
        "\n",
        "\n",
        "    def evaluate(self, dictionary, precisions): \n",
        "      # dictionary : mots sur lesquelles evaluer les traductions\n",
        "      # precisions : liste de precision d'evaluation\n",
        "      #           p = 1 -> la 1ere traduction du mot doit être bonne\n",
        "      #           p = 5 -> une des 5 premieres traductions du mot doit être bonne\n",
        "        \n",
        "      acc = {p:0 for p in precisions}\n",
        "\n",
        "      X,y,d = self.process(dictionary)\n",
        "      translations = self.translate(list(d.keys()), max(precisions))\n",
        "      n = 0\n",
        "      for t in translations:\n",
        "          if len(t) > 0: # le mot est dans le voc\n",
        "              possibilities = set(d[t[0]]) #traductions possibles selon le dictionnaire\n",
        "              n +=1\n",
        "            \n",
        "              for p in precisions:\n",
        "                  predictions = set(t[1][:p]) #traductions obtenues par le traducteur avec certaine precision\n",
        "              \n",
        "                  if len(predictions.intersection(possibilities)) > 0 :\n",
        "                      acc[p] += 1\n",
        "\n",
        "      return {p:acc[p]/n for p in acc.keys()}\n",
        "\n",
        "    def evaluate_2(self,W,X,Y, split):\n",
        "        #retourne la distance cosinus moyenne entre les vecteurs traduits et ceux effectifs sur un ensemble d'évaluation.\n",
        " \n",
        "        n_vectors = int(split * X.shape[0]) # nombre de vecteurs utilises pour evaluer     \n",
        "        indices = np.random.choice(range(X.shape[0]), n_vectors, False)\n",
        "        trslt_vec = np.dot(X[indices], W)\n",
        "        \n",
        "        mean_cos_dis= np.mean(np.diag(cdist(trslt_vec, Y[indices], metric=\"cosine\")))\n",
        " \n",
        "        return mean_cos_dis\n",
        "\n",
        "    def save_mapping(self,path):\n",
        "      with open(path, \"wb\") as f:   \n",
        "        pickle.dump(self.W, f)\n",
        "\n",
        "        \n",
        "class SupervisedTranslator(Translator):\n",
        "    def __init__(self, source_language, target_language, dictionary=None):\n",
        "       super(SupervisedTranslator, self).__init__(source_language, target_language)\n",
        "       self.X, self.y, self.dictionary = self.process(dictionary)\n",
        "  \n",
        "  \n",
        "    def translation_accuracy_metric(self, precision):\n",
        "        \n",
        "        def metric(y_true, y_pred):\n",
        "\n",
        "            normalize_pred = tf.nn.l2_normalize(y_pred,1)        \n",
        "            normalize_vec = tf.nn.l2_normalize(tf.convert_to_tensor(self.target.vec), 1)\n",
        "            normalize_true = tf.nn.l2_normalize(y_true, 1)\n",
        "\n",
        "            d = 1 - tf.matmul(normalize_pred, normalize_vec, transpose_b=True) # distance entre les predictions et l'ensemble des mots du voc\n",
        "            d2 = tf.linalg.diag_part(1 - tf.matmul(normalize_pred, normalize_true, transpose_b=True)) # distance entre la traduction attendu et la prediction\n",
        "\n",
        "            allowed_d = tf.sort(d, 1)[:,precision-1] # distance entre predictions et le precision-eme mot le plus proche \n",
        "            \n",
        "            return tf.cast(allowed_d >= d2, tf.int32)\n",
        "\n",
        "        metric.__name__ = \"p@{}\".format(precision)\n",
        "        return metric\n",
        " \n",
        "    def fit(self, method='NN', step_size = 0.1, batch_size = 1, epochs = 50, precision_evaluation=[], verbose=1, n_refinement=5):\n",
        " \n",
        "        if method=='NN':\n",
        "            nn = Sequential()\n",
        "            nn.add(Dense(self.target.embd_size, activation=\"linear\", input_shape=(self.source.embd_size,), use_bias=False))\n",
        "\n",
        "            metrics = [\"cosine_similarity\"]\n",
        "            for p in precision_evaluation:\n",
        "                metrics.append(self.translation_accuracy_metric(p))\n",
        "            nn.compile(loss=\"MSE\", optimizer=SGD(step_size), metrics=metrics)\n",
        " \n",
        "            h = nn.fit(self.X, self.y, batch_size=batch_size, epochs=epochs, verbose=verbose)\n",
        " \n",
        "            self.W = nn.get_weights()[0]\n",
        "\n",
        "            return h\n",
        " \n",
        "        elif method=='procrustes':\n",
        "            best_eval_score= np.inf\n",
        "            for i in range(n_refinement):\n",
        "                M = np.dot(self.X.T, self.y)\n",
        "                U, S , Vt = svd(M)\n",
        "                W = U.dot(Vt)\n",
        "                eval_score=self.evaluate_2(W, self.X, self.y, 0.4)\n",
        "                if eval_score < best_eval_score:\n",
        "                        best_eval_score = eval_score\n",
        "                        self.W = W\n",
        " \n",
        "\n",
        "\n",
        "class UnsupervisedTranslator(Translator):\n",
        "\n",
        "    def __init__(self, source_language, target_language):\n",
        "      super(UnsupervisedTranslator, self).__init__(source_language, target_language)\n",
        "      self.synthetic_dictionary=None\n",
        "\n",
        "    def get_discriminator(self, learning_rate):   \n",
        "      inputs = Input(shape=(self.target.embd_size,))\n",
        "      discriminator = Dropout(0.1)(inputs)\n",
        "      discriminator = GaussianNoise(0.1)(discriminator)\n",
        "      discriminator = Dense(2048)(discriminator)\n",
        "      discriminator = LeakyReLU(0.2)(discriminator)\n",
        "      discriminator = Dense(2048)(discriminator)\n",
        "      discriminator = LeakyReLU(0.2)(discriminator)\n",
        "      outputs = Dense(1, activation=\"sigmoid\")(discriminator)\n",
        "      model = Model(inputs, outputs)\n",
        "      model.compile(loss=BinaryCrossentropy(label_smoothing=0.2), optimizer=SGD(learning_rate=learning_rate), metrics=[\"accuracy\"])\n",
        "\n",
        "      return model\n",
        "\n",
        "    def get_generator(self):\n",
        "      inputs = Input(shape=(self.source.embd_size,))\n",
        "      outputs = Dense(self.target.embd_size, use_bias=False)(inputs)\n",
        "      model = Model(inputs, outputs)\n",
        "      \n",
        "      return model\n",
        "\n",
        "    def get_gan(self,generator, discriminator, learning_rate):\n",
        "      discriminator.trainable = False     \n",
        "      inputs = Input(shape=(generator.input_shape[1],))\n",
        "      outputs = discriminator(generator(inputs))     \n",
        "      model = Model(inputs, outputs)\n",
        "      model.compile(loss=BinaryCrossentropy(), optimizer=SGD(learning_rate=learning_rate), metrics=[\"accuracy\"])  \n",
        "\n",
        "      return model\n",
        "  \n",
        "  \n",
        "    def fit(self, epochs=10, batch_size=32, learning_rate=0.1, learning_decay=0.98, discriminator_steps=2, test_dic=None): #param. test_dic temporaire.\n",
        "      generator = self.get_generator()\n",
        "      discriminator = self.get_discriminator(learning_rate)\n",
        "      gan = self.get_gan(generator, discriminator, learning_rate)\n",
        "\n",
        "      self.generator = generator\n",
        "      self.discriminator = discriminator\n",
        "      self.gan = gan\n",
        "\n",
        "      half_batch = int(batch_size / 2)\n",
        "      n_steps = int(int(self.source.voc_size/batch_size)/2)\n",
        "\n",
        "      d_history={'loss':[], 'acc':[]}\n",
        "      g_history={'loss':[], 'acc':[]}\n",
        "      m = 0\n",
        "      metric_decay = 0\n",
        "\n",
        "      for e in range(epochs):\n",
        "          for i in range(n_steps):\n",
        "              #entrainement du discrimineur\n",
        "              for j in range(discriminator_steps):\n",
        "                x = self.source.vec[np.random.choice(range(self.source.voc_size), half_batch, False),:]\n",
        "                generated_vectors = generator.predict(x)\n",
        "                real_vectors = self.target.vec[np.random.choice(range(self.target.voc_size), half_batch, False),:]\n",
        "\n",
        "                X_d= np.concatenate([generated_vectors, real_vectors])\n",
        "                y_d=np.ones(2*half_batch)\n",
        "                y_d[:half_batch]=0 \n",
        "                d_loss, d_acc = discriminator.train_on_batch(X_d, y_d)\n",
        "\n",
        "              #entrainement du generateur\n",
        "              x = self.source.vec[np.random.choice(range(self.source.voc_size), batch_size, False),:]   \n",
        "              g_loss, g_acc = gan.train_on_batch(x,np.repeat(1, batch_size))  \n",
        "              w = generator.get_weights()[0]\n",
        "              beta = 0.01\n",
        "              generator.set_weights([(1+beta) * w - beta * w @ w.T @ w])\n",
        "\n",
        "          self.W = generator.get_weights()[0]\n",
        "\n",
        "          mapped= torch.from_numpy(np.dot(self.source.vec[:1000,:], self.W))\n",
        "          mapped.div_(mapped.norm(2, 1, keepdim=True))\n",
        "          targ= torch.from_numpy(self.target.vec[:1000,:])\n",
        "          targ.div_(targ.norm(2, 1, keepdim=True))\n",
        "          \n",
        "          metric2 = csls2(mapped, targ, 10)[1]\n",
        "          print(\"csls\", metric2)\n",
        "\n",
        "          if metric2 < m:\n",
        "            if metric_decay < 2:\n",
        "              metric_decay += 1\n",
        "          else: # Dividing the learning_rate by 2 after two worsenings of the metric\n",
        "              metric_decay = 0\n",
        "              old_lr = keras.backend.get_value(gan.optimizer.learning_rate) \n",
        "              new_lr = max(old_lr / 1.5, 0.00001)\n",
        "              keras.backend.set_value(gan.optimizer.learning_rate, new_lr)  \n",
        "              keras.backend.set_value(discriminator.optimizer.learning_rate, new_lr)\n",
        "\n",
        "\n",
        "          \n",
        "          # if (e+1) %25 == 0:  comme rien n'est spécifié pour le decay de 0.95 j'en comprends qu'il est fait à l'échéance \"standard\" de Keras par expl. et donc à chaque fin de batch(à chaque étape) : https://medium.com/@nuti.krish4/learning-rate-schedules-and-decay-using-keras-fb681d9a6509#f479:~:text=the%20learning%20rate%20is%20modified%20after%20every%20batch%20update%20in%20Keras%E2%80%99%20standard%20learning%20rate%20schedule.     \n",
        "          old_lr = keras.backend.get_value(gan.optimizer.learning_rate)                 #(c'est aussi le cas dans MUSE finalement)\n",
        "          new_lr = max(old_lr * learning_decay, 0.00001)                    # dans MUSE ils font 1 million d'ite par epoch soit 25x plus que nous\n",
        "          keras.backend.set_value(gan.optimizer.learning_rate, new_lr)  \n",
        "          keras.backend.set_value(discriminator.optimizer.learning_rate, new_lr)\n",
        "          \n",
        "          m = metric2\n",
        "          #print(\"lr \", keras.backend.get_value(gan.optimizer.learning_rate))\n",
        "          #print(\"translations acc \", self.evaluate(test_dic.loc[np.random.choice(test_dic.shape[0], 500, False),:], [1,5,10]))\n",
        "          if (e+1)%5 == 0: \n",
        "              print(e)\n",
        "              print(\"D_loss: \", round(d_loss,3), \n",
        "                    \", D_acc1: \", round(d_acc,3),  \n",
        "                    \", G_loss: \", round(g_loss,3), \", G_acc: \", round(g_acc,3))\n",
        "              d_history['loss'].append(d_loss)\n",
        "              d_history['acc'].append(d_acc)\n",
        "              g_history['loss'].append(g_loss)\n",
        "              g_history['acc'].append(g_acc)\n",
        "              \n",
        "              #print(np.mean(np.diag(cdist(np.dot(X, self.W), y, metric=\"cosine\")))) # juste por verifier la convergence\n",
        "              # print(csls(np.dot(self.source.vec[:1000,:], self.W), self.target.vec[:1000,:], 10))\n",
        "              # mapped= torch.from_numpy(np.dot(self.source.vec[:1000,:], self.W))\n",
        "              # mapped.div_(mapped.norm(2, 1, keepdim=True))\n",
        "              # targ= torch.from_numpy(self.target.vec[:1000,:])\n",
        "              # targ.div_(targ.norm(2, 1, keepdim=True))\n",
        "              # print(csls2( mapped,targ , 10)[1])\n",
        "\n",
        "      return d_history, g_history        \n",
        "\n",
        "\n",
        "    #Majoritairement basé sur le code de https://github.com/facebookresearch/MUSE/blob/master/src/dico_builder.py\n",
        "    def build_synthetic_dictionary(self, mapped_embd, targ_embd, k, min_dico_size=0, max_dico_size=0, conf_thresh=0):  \n",
        "\n",
        "      avg_dist_m_t=torch.from_numpy(get_nn_avg_dist(targ_embd, mapped_embd, k)) \n",
        "      avg_dist_t_m=torch.from_numpy(get_nn_avg_dist(mapped_embd, targ_embd, k)) \n",
        "\n",
        "      average_dist1 = avg_dist_m_t.type_as(mapped_embd)\n",
        "      average_dist2 = avg_dist_t_m.type_as(targ_embd)\n",
        "\n",
        "      # calculer les scores CSLS entre les projections et les vecteurs de la lgue. cible\n",
        "      scores= csls2(mapped_embd, targ_embd, k )[0]\n",
        "      best_scores, best_targets = scores.topk(2, dim=1, largest=True, sorted=True)  #sont retenus les deux vecteurs cible ayant les socres\n",
        "                                                                                    #CSLS les plus élevés (2 pour le calcul de la \"difféence\n",
        "                                                                                    # de confiance\" ci-bas. Uniquement celui dont le score est \n",
        "                                                                                    # le plus élevé est retenu) \n",
        "      all_pairs = torch.cat([ torch.arange(0, best_targets.size(0)).long().unsqueeze(1),best_targets[:, 0].unsqueeze(1)], 1)\n",
        "\n",
        "      # Réordonnancement selon le seuil de confiance\n",
        "      diff = scores[:, 0] - scores[:, 1]\n",
        "      reordered = diff.sort(0, descending=True)[1]\n",
        "      scores = scores[reordered]\n",
        "      all_pairs = all_pairs[reordered]\n",
        "\n",
        "      # taille max \n",
        "      if max_dico_size > 0:\n",
        "        scores = scores[:max_dico_size]\n",
        "        all_pairs = all_pairs[:max_dico_size]\n",
        "\n",
        "      #taille min \n",
        "      diff = scores[:, 0] - scores[:, 1]\n",
        "      if min_dico_size > 0: \n",
        "        diff[:min_dico_size] = np.inf   #(forcer au moins \"min_dico_size\" entrées à etre > au seuil de confiance   )\n",
        "\n",
        "      # selection selon le seuil de confiance\n",
        "      if conf_thresh > 0:\n",
        "        mask = diff > conf_thresh\n",
        "        mask = mask.unsqueeze(1).expand_as(all_pairs).clone()\n",
        "        all_pairs = all_pairs.masked_select(mask).view(-1, 2)\n",
        "\n",
        "      return all_pairs\n",
        "\n",
        "\n",
        "    def procrustes_refinement(self, n_refinement,dico_params):\n",
        "      #raffine la projection  apprise par apprentissage adversarial en construisant un dictionnaire en usant de celle-ci et en \n",
        "      #résolvant un problème de Procruste (revient à l'apprentissage supervisé ci-heaut avec un dictionnaire synthétique)\n",
        "      \n",
        "      best_eval_score= np.inf\n",
        "      for i in range(n_refinement):\n",
        "\n",
        "        #construction du dictionnaire synthétique\n",
        "        mapped_emb= torch.from_numpy(np.dot(self.source.vec, self.W))\n",
        "        targ_emb= torch.from_numpy(self.target.vec)\n",
        "        mapped_emb.div_(mapped_emb.norm(2, 1, keepdim=True))\n",
        "        targ_emb.div_(targ_emb.norm(2, 1, keepdim=True))\n",
        "\n",
        "        self.synthetic_dictionary = self.build_synthetic_dictionary(mapped_emb, targ_emb, dico_params[0], dico_params[1], dico_params[2] )\n",
        "        \n",
        "        #Raffinement Procruste\n",
        "        X= self.source.vec[self.synthetic_dictionary[:, 0]]\n",
        "        Y= self.target.vec[self.synthetic_dictionary[:, 1]]\n",
        "        M = np.dot(X.T, Y)\n",
        "        U, S , Vt = svd(M)\n",
        "        W = U.dot(Vt)\n",
        "        eval_score=self.evaluate_2(W,X, y, 0.4)\n",
        "        if eval_score < best_eval_score:\n",
        "          best_eval_score = eval_score\n",
        "          self.W = W"
      ],
      "execution_count": 4,
      "outputs": []
    },
    {
      "cell_type": "code",
      "metadata": {
        "id": "bfYIerDYPOLS"
      },
      "source": [
        "def csls(Wx, y, k):\n",
        "    #retourne la moyenne des similarités cosinus de chaque projection (chaque ligne de \"Wx\") à son plus proche voisin dans \"y\" selon la métrique \"CSLS\"\n",
        "\t  cos_sim = 1 - cdist(Wx, y, metric=\"cosine\")\n",
        "\t  mean_sim1 = np.reshape(np.mean(np.sort(cos_sim, axis=1)[:,-k:], axis=1), (-1,1))\n",
        "\t  mean_sim2 = np.mean(np.sort(cos_sim, axis=0)[-k:,:], axis=0)\n",
        "\t\n",
        "\t  sim = 2 * cos_sim - mean_sim1 - mean_sim2\n",
        "   \n",
        "\t  i = np.argmax(sim, axis=1)\n",
        "\n",
        "\t  return np.mean(cos_sim[range(len(i)), i])\n",
        "   \n",
        "def get_nn_avg_dist(emb, query, k):\n",
        "#Retourne les distances moyennes des vecteurs de \"query\" à leur \"k\" plus proches voisins dans \"emb\".\n",
        "\n",
        "    all_distances = []\n",
        "    emb = emb.transpose(0, 1).contiguous()\n",
        "    distances = query.mm(emb)\n",
        "    best_distances, _ = distances.topk(k, dim=1, largest=True, sorted=True)\n",
        "    all_distances=best_distances.mean(1)\n",
        "\n",
        "    return all_distances.numpy()\n",
        "\n",
        "def csls2(mapped_embd, targ_embd, k):  \n",
        "  \n",
        "  avg_dist_m_t=torch.from_numpy(get_nn_avg_dist(targ_embd, mapped_embd, k)) \n",
        "  avg_dist_t_m=torch.from_numpy(get_nn_avg_dist(mapped_embd, targ_embd, k)) \n",
        "  scores = targ_embd.mm(mapped_embd.transpose(0, 1)).transpose(0, 1)  \n",
        "  cos_sim=scores\n",
        "  scores.mul_(2)\n",
        "  scores.sub_(avg_dist_m_t[:, None] + avg_dist_t_m[None, :])\n",
        "  i =torch.argmax(scores, axis=1)\n",
        "  m=torch.mean(cos_sim[range(len(i)), i])\n",
        "\n",
        "  return scores, m"
      ],
      "execution_count": 5,
      "outputs": []
    },
    {
      "cell_type": "markdown",
      "metadata": {
        "id": "DTL9rMHoVS99"
      },
      "source": [
        "##Expérimentation"
      ]
    },
    {
      "cell_type": "markdown",
      "metadata": {
        "id": "uegvFalwuVuP"
      },
      "source": [
        "### Traduction supervisée \n",
        "Traduction de la langue $l_1$, formée par des vecteurs de $\\mathbb{R}^{d_1}$ (et l'ensemble des mots correspondants $M_1$), vers la langue $l_2$, formée par des vecteurs de $\\mathbb{R}^{d_2}$ (et l'ensemble des mots correspondants $M_2$). \n",
        "\n",
        "L'apprentissage se fait grâce à un dictionnaire :\n",
        "\n",
        "$$\n",
        " d = \\left\\{\n",
        "    \\begin{array}{ll}\n",
        "        \\{(x_i, y_i)| i \\in [1,n], x_i \\in M_1, y_i \\in M_2, y_i \\mbox{ est la traduction de } x_i \\} \\mbox{ si des traductions sont fournies.} \\\\\n",
        "        \\{(x_i, x_i)| i \\in [1,n], x_i\\in M_1 \\cap M_2\\} \\mbox{ sinon.}\n",
        "    \\end{array}\n",
        "\\right.\n",
        "$$"
      ]
    },
    {
      "cell_type": "code",
      "metadata": {
        "id": "ckTQJ_hcPE9v"
      },
      "source": [
        "# fr_en_dic = pd.read_csv(\"/content/dictionaries/fr-en.0-5000.txt\", sep=\" \",header=None, names=[\"french\", \"english\"], na_filter= False)\n",
        "fr_en_dic = pd.read_csv(\"/content/dictionaries/fr-en.5000-6500.txt\", sep=\" \",header=None, names=[\"french\", \"english\"], na_filter= False)\n",
        "en_fr_dic= pd.read_csv(\"/content/dictionaries/en-fr.5000-6500.txt\", sep=\" \",header=None, names=[\"french\", \"english\"], na_filter= False)\n",
        "fr_en_trslt = SupervisedTranslator(fr, en, fr_en_dic)\n",
        "en_fr_trslt = SupervisedTranslator(en, fr, en_fr_dic)"
      ],
      "execution_count": 14,
      "outputs": []
    },
    {
      "cell_type": "markdown",
      "metadata": {
        "id": "MF3crxxTAAUd"
      },
      "source": [
        "#### Méthode de régression linéaire\n",
        " \n",
        "Recherche de la matrice $W$ vérifiant :\n",
        "$$\n",
        "    \\min_{W \\in \\mathbb{R}^{d_2 \\times d_1}} \\sum_{i=1}^{n} \\|Wx_i - y_i\\|^2 \n",
        "$$"
      ]
    },
    {
      "cell_type": "code",
      "metadata": {
        "colab": {
          "base_uri": "https://localhost:8080/"
        },
        "id": "0siYDuAjZxo-",
        "outputId": "c6275e66-9408-4ccd-f265-f64801b6a76d"
      },
      "source": [
        "fr_en_trslt.fit(step_size=0.1, batch_size=4, epochs=60, verbose=1)"
      ],
      "execution_count": null,
      "outputs": [
        {
          "output_type": "stream",
          "text": [
            "Epoch 1/60\n",
            "1957/1957 [==============================] - 4s 2ms/step - loss: 0.1009 - cosine_similarity: 0.1566\n",
            "Epoch 2/60\n",
            "1957/1957 [==============================] - 3s 2ms/step - loss: 0.0846 - cosine_similarity: 0.2562\n",
            "Epoch 3/60\n",
            "1957/1957 [==============================] - 3s 2ms/step - loss: 0.0752 - cosine_similarity: 0.3101\n",
            "Epoch 4/60\n",
            "1957/1957 [==============================] - 3s 2ms/step - loss: 0.0683 - cosine_similarity: 0.3551\n",
            "Epoch 5/60\n",
            "1957/1957 [==============================] - 3s 2ms/step - loss: 0.0630 - cosine_similarity: 0.3935\n",
            "Epoch 6/60\n",
            "1957/1957 [==============================] - 4s 2ms/step - loss: 0.0587 - cosine_similarity: 0.4267\n",
            "Epoch 7/60\n",
            "1957/1957 [==============================] - 3s 2ms/step - loss: 0.0552 - cosine_similarity: 0.4558\n",
            "Epoch 8/60\n",
            "1957/1957 [==============================] - 3s 2ms/step - loss: 0.0523 - cosine_similarity: 0.4812\n",
            "Epoch 9/60\n",
            "1957/1957 [==============================] - 3s 2ms/step - loss: 0.0498 - cosine_similarity: 0.5038\n",
            "Epoch 10/60\n",
            "1957/1957 [==============================] - 3s 2ms/step - loss: 0.0477 - cosine_similarity: 0.5238\n",
            "Epoch 11/60\n",
            "1957/1957 [==============================] - 3s 2ms/step - loss: 0.0458 - cosine_similarity: 0.5414\n",
            "Epoch 12/60\n",
            "1957/1957 [==============================] - 4s 2ms/step - loss: 0.0442 - cosine_similarity: 0.5572\n",
            "Epoch 13/60\n",
            "1957/1957 [==============================] - 3s 2ms/step - loss: 0.0429 - cosine_similarity: 0.5713\n",
            "Epoch 14/60\n",
            "1957/1957 [==============================] - 3s 2ms/step - loss: 0.0417 - cosine_similarity: 0.5839\n",
            "Epoch 15/60\n",
            "1957/1957 [==============================] - 3s 2ms/step - loss: 0.0406 - cosine_similarity: 0.5951\n",
            "Epoch 16/60\n",
            "1957/1957 [==============================] - 3s 2ms/step - loss: 0.0397 - cosine_similarity: 0.6052\n",
            "Epoch 17/60\n",
            "1957/1957 [==============================] - 3s 2ms/step - loss: 0.0388 - cosine_similarity: 0.6142\n",
            "Epoch 18/60\n",
            "1957/1957 [==============================] - 4s 2ms/step - loss: 0.0381 - cosine_similarity: 0.6222\n",
            "Epoch 19/60\n",
            "1957/1957 [==============================] - 3s 2ms/step - loss: 0.0375 - cosine_similarity: 0.6295\n",
            "Epoch 20/60\n",
            "1957/1957 [==============================] - 4s 2ms/step - loss: 0.0369 - cosine_similarity: 0.6360\n",
            "Epoch 21/60\n",
            "1957/1957 [==============================] - 4s 2ms/step - loss: 0.0364 - cosine_similarity: 0.6418\n",
            "Epoch 22/60\n",
            "1957/1957 [==============================] - 3s 2ms/step - loss: 0.0359 - cosine_similarity: 0.6471\n",
            "Epoch 23/60\n",
            "1957/1957 [==============================] - 3s 2ms/step - loss: 0.0355 - cosine_similarity: 0.6518\n",
            "Epoch 24/60\n",
            "1957/1957 [==============================] - 4s 2ms/step - loss: 0.0351 - cosine_similarity: 0.6561\n",
            "Epoch 25/60\n",
            "1957/1957 [==============================] - 4s 2ms/step - loss: 0.0348 - cosine_similarity: 0.6599\n",
            "Epoch 26/60\n",
            "1957/1957 [==============================] - 4s 2ms/step - loss: 0.0345 - cosine_similarity: 0.6634\n",
            "Epoch 27/60\n",
            "1957/1957 [==============================] - 3s 2ms/step - loss: 0.0342 - cosine_similarity: 0.6666\n",
            "Epoch 28/60\n",
            "1957/1957 [==============================] - 3s 2ms/step - loss: 0.0339 - cosine_similarity: 0.6694\n",
            "Epoch 29/60\n",
            "1957/1957 [==============================] - 3s 2ms/step - loss: 0.0337 - cosine_similarity: 0.6720\n",
            "Epoch 30/60\n",
            "1957/1957 [==============================] - 3s 2ms/step - loss: 0.0335 - cosine_similarity: 0.6743\n",
            "Epoch 31/60\n",
            "1957/1957 [==============================] - 3s 2ms/step - loss: 0.0333 - cosine_similarity: 0.6765\n",
            "Epoch 32/60\n",
            "1957/1957 [==============================] - 3s 2ms/step - loss: 0.0332 - cosine_similarity: 0.6784\n",
            "Epoch 33/60\n",
            "1957/1957 [==============================] - 3s 2ms/step - loss: 0.0330 - cosine_similarity: 0.6802\n",
            "Epoch 34/60\n",
            "1957/1957 [==============================] - 3s 2ms/step - loss: 0.0329 - cosine_similarity: 0.6818\n",
            "Epoch 35/60\n",
            "1957/1957 [==============================] - 3s 2ms/step - loss: 0.0327 - cosine_similarity: 0.6833\n",
            "Epoch 36/60\n",
            "1957/1957 [==============================] - 3s 2ms/step - loss: 0.0326 - cosine_similarity: 0.6846\n",
            "Epoch 37/60\n",
            "1957/1957 [==============================] - 3s 2ms/step - loss: 0.0325 - cosine_similarity: 0.6858\n",
            "Epoch 38/60\n",
            "1957/1957 [==============================] - 3s 2ms/step - loss: 0.0324 - cosine_similarity: 0.6870\n",
            "Epoch 39/60\n",
            "1957/1957 [==============================] - 3s 2ms/step - loss: 0.0323 - cosine_similarity: 0.6880\n",
            "Epoch 40/60\n",
            "1957/1957 [==============================] - 3s 2ms/step - loss: 0.0322 - cosine_similarity: 0.6889\n",
            "Epoch 41/60\n",
            "1957/1957 [==============================] - 3s 2ms/step - loss: 0.0322 - cosine_similarity: 0.6898\n",
            "Epoch 42/60\n",
            "1957/1957 [==============================] - 3s 2ms/step - loss: 0.0321 - cosine_similarity: 0.6906\n",
            "Epoch 43/60\n",
            "1957/1957 [==============================] - 3s 2ms/step - loss: 0.0320 - cosine_similarity: 0.6913\n",
            "Epoch 44/60\n",
            "1957/1957 [==============================] - 3s 2ms/step - loss: 0.0320 - cosine_similarity: 0.6920\n",
            "Epoch 45/60\n",
            "1957/1957 [==============================] - 3s 2ms/step - loss: 0.0319 - cosine_similarity: 0.6926\n",
            "Epoch 46/60\n",
            "1957/1957 [==============================] - 3s 2ms/step - loss: 0.0319 - cosine_similarity: 0.6932\n",
            "Epoch 47/60\n",
            "1957/1957 [==============================] - 3s 2ms/step - loss: 0.0318 - cosine_similarity: 0.6937\n",
            "Epoch 48/60\n",
            "1957/1957 [==============================] - 3s 2ms/step - loss: 0.0318 - cosine_similarity: 0.6942\n",
            "Epoch 49/60\n",
            "1957/1957 [==============================] - 3s 2ms/step - loss: 0.0317 - cosine_similarity: 0.6946\n",
            "Epoch 50/60\n",
            "1957/1957 [==============================] - 3s 2ms/step - loss: 0.0317 - cosine_similarity: 0.6950\n",
            "Epoch 51/60\n",
            "1957/1957 [==============================] - 3s 2ms/step - loss: 0.0317 - cosine_similarity: 0.6954\n",
            "Epoch 52/60\n",
            "1957/1957 [==============================] - 3s 2ms/step - loss: 0.0316 - cosine_similarity: 0.6957\n",
            "Epoch 53/60\n",
            "1957/1957 [==============================] - 3s 2ms/step - loss: 0.0316 - cosine_similarity: 0.6961\n",
            "Epoch 54/60\n",
            "1957/1957 [==============================] - 4s 2ms/step - loss: 0.0316 - cosine_similarity: 0.6964\n",
            "Epoch 55/60\n",
            "1957/1957 [==============================] - 3s 2ms/step - loss: 0.0316 - cosine_similarity: 0.6967\n",
            "Epoch 56/60\n",
            "1957/1957 [==============================] - 3s 2ms/step - loss: 0.0315 - cosine_similarity: 0.6969\n",
            "Epoch 57/60\n",
            "1957/1957 [==============================] - 3s 2ms/step - loss: 0.0315 - cosine_similarity: 0.6972\n",
            "Epoch 58/60\n",
            "1957/1957 [==============================] - 3s 2ms/step - loss: 0.0315 - cosine_similarity: 0.6974\n",
            "Epoch 59/60\n",
            "1957/1957 [==============================] - 3s 2ms/step - loss: 0.0315 - cosine_similarity: 0.6976\n",
            "Epoch 60/60\n",
            "1957/1957 [==============================] - 3s 2ms/step - loss: 0.0315 - cosine_similarity: 0.6978\n"
          ],
          "name": "stdout"
        },
        {
          "output_type": "execute_result",
          "data": {
            "text/plain": [
              "<tensorflow.python.keras.callbacks.History at 0x7f2bc1ef4240>"
            ]
          },
          "metadata": {
            "tags": []
          },
          "execution_count": 136
        }
      ]
    },
    {
      "cell_type": "code",
      "metadata": {
        "colab": {
          "base_uri": "https://localhost:8080/"
        },
        "id": "-s_uIWlPGeU4",
        "outputId": "ccfbce3f-0497-429e-d04e-c0ef43bf09c4"
      },
      "source": [
        "history = fr_en_trslt.fit(step_size=0.1, batch_size=5, epochs=50, precision_evaluation=[1,5], verbose=1)"
      ],
      "execution_count": null,
      "outputs": [
        {
          "output_type": "stream",
          "text": [
            "Epoch 1/50\n",
            "1566/1566 [==============================] - 144s 92ms/step - loss: 0.1031 - cosine_similarity: 0.1384 - p@1: 1.2776e-04 - p@5: 0.0015\n",
            "Epoch 2/50\n",
            "1566/1566 [==============================] - 141s 90ms/step - loss: 0.0879 - cosine_similarity: 0.2377 - p@1: 0.0019 - p@5: 0.0087\n",
            "Epoch 3/50\n",
            "1566/1566 [==============================] - 145s 92ms/step - loss: 0.0793 - cosine_similarity: 0.2850 - p@1: 0.0064 - p@5: 0.0331\n",
            "Epoch 4/50\n",
            "1566/1566 [==============================] - 142s 91ms/step - loss: 0.0728 - cosine_similarity: 0.3246 - p@1: 0.0233 - p@5: 0.0873\n",
            "Epoch 5/50\n",
            "1566/1566 [==============================] - 144s 92ms/step - loss: 0.0676 - cosine_similarity: 0.3593 - p@1: 0.0466 - p@5: 0.1594\n",
            "Epoch 6/50\n",
            "1566/1566 [==============================] - 148s 94ms/step - loss: 0.0634 - cosine_similarity: 0.3901 - p@1: 0.0727 - p@5: 0.2388\n",
            "Epoch 7/50\n",
            "1566/1566 [==============================] - 146s 93ms/step - loss: 0.0598 - cosine_similarity: 0.4173 - p@1: 0.1053 - p@5: 0.3110\n",
            "Epoch 8/50\n",
            "1566/1566 [==============================] - 143s 91ms/step - loss: 0.0568 - cosine_similarity: 0.4417 - p@1: 0.1344 - p@5: 0.3723\n",
            "Epoch 9/50\n",
            "1566/1566 [==============================] - 144s 92ms/step - loss: 0.0542 - cosine_similarity: 0.4637 - p@1: 0.1525 - p@5: 0.4238\n",
            "Epoch 10/50\n",
            "1566/1566 [==============================] - 143s 92ms/step - loss: 0.0520 - cosine_similarity: 0.4836 - p@1: 0.1726 - p@5: 0.4709\n",
            "Epoch 11/50\n",
            "1566/1566 [==============================] - 144s 92ms/step - loss: 0.0500 - cosine_similarity: 0.5016 - p@1: 0.1987 - p@5: 0.5100\n",
            "Epoch 12/50\n",
            "1566/1566 [==============================] - 147s 94ms/step - loss: 0.0482 - cosine_similarity: 0.5179 - p@1: 0.2208 - p@5: 0.5411\n",
            "Epoch 13/50\n",
            "1566/1566 [==============================] - 144s 92ms/step - loss: 0.0467 - cosine_similarity: 0.5328 - p@1: 0.2264 - p@5: 0.5633\n",
            "Epoch 14/50\n",
            "1566/1566 [==============================] - 144s 92ms/step - loss: 0.0453 - cosine_similarity: 0.5464 - p@1: 0.2466 - p@5: 0.5836\n",
            "Epoch 15/50\n",
            "1566/1566 [==============================] - 143s 91ms/step - loss: 0.0441 - cosine_similarity: 0.5588 - p@1: 0.2605 - p@5: 0.6018\n",
            "Epoch 16/50\n",
            "1566/1566 [==============================] - 146s 93ms/step - loss: 0.0430 - cosine_similarity: 0.5700 - p@1: 0.2631 - p@5: 0.6204\n",
            "Epoch 17/50\n",
            "1566/1566 [==============================] - 140s 89ms/step - loss: 0.0420 - cosine_similarity: 0.5803 - p@1: 0.2767 - p@5: 0.6336\n",
            "Epoch 18/50\n",
            "1566/1566 [==============================] - 142s 91ms/step - loss: 0.0411 - cosine_similarity: 0.5897 - p@1: 0.2808 - p@5: 0.6442\n",
            "Epoch 19/50\n",
            "1566/1566 [==============================] - 142s 91ms/step - loss: 0.0403 - cosine_similarity: 0.5983 - p@1: 0.2921 - p@5: 0.6512\n",
            "Epoch 20/50\n",
            "1566/1566 [==============================] - 144s 92ms/step - loss: 0.0396 - cosine_similarity: 0.6062 - p@1: 0.2999 - p@5: 0.6618\n",
            "Epoch 21/50\n",
            "1566/1566 [==============================] - 151s 96ms/step - loss: 0.0389 - cosine_similarity: 0.6134 - p@1: 0.2956 - p@5: 0.6682\n",
            "Epoch 22/50\n",
            "1566/1566 [==============================] - 151s 97ms/step - loss: 0.0383 - cosine_similarity: 0.6200 - p@1: 0.2949 - p@5: 0.6750\n",
            "Epoch 23/50\n",
            "1566/1566 [==============================] - 143s 91ms/step - loss: 0.0377 - cosine_similarity: 0.6261 - p@1: 0.3084 - p@5: 0.6805\n",
            "Epoch 24/50\n",
            "1566/1566 [==============================] - 145s 93ms/step - loss: 0.0373 - cosine_similarity: 0.6316 - p@1: 0.3048 - p@5: 0.6866\n",
            "Epoch 25/50\n",
            "1566/1566 [==============================] - 150s 96ms/step - loss: 0.0368 - cosine_similarity: 0.6367 - p@1: 0.3131 - p@5: 0.6939\n",
            "Epoch 26/50\n",
            "1566/1566 [==============================] - 146s 93ms/step - loss: 0.0364 - cosine_similarity: 0.6414 - p@1: 0.3134 - p@5: 0.6975\n",
            "Epoch 27/50\n",
            "1566/1566 [==============================] - 149s 95ms/step - loss: 0.0360 - cosine_similarity: 0.6457 - p@1: 0.3220 - p@5: 0.7001\n",
            "Epoch 28/50\n",
            "1566/1566 [==============================] - 145s 93ms/step - loss: 0.0357 - cosine_similarity: 0.6497 - p@1: 0.3190 - p@5: 0.7028\n",
            "Epoch 29/50\n",
            "1566/1566 [==============================] - 149s 95ms/step - loss: 0.0353 - cosine_similarity: 0.6533 - p@1: 0.3174 - p@5: 0.7093\n",
            "Epoch 30/50\n",
            "1566/1566 [==============================] - 146s 93ms/step - loss: 0.0350 - cosine_similarity: 0.6566 - p@1: 0.3147 - p@5: 0.7116\n",
            "Epoch 31/50\n",
            "1566/1566 [==============================] - 147s 94ms/step - loss: 0.0348 - cosine_similarity: 0.6597 - p@1: 0.3225 - p@5: 0.7145\n",
            "Epoch 32/50\n",
            "1566/1566 [==============================] - 145s 93ms/step - loss: 0.0345 - cosine_similarity: 0.6626 - p@1: 0.3206 - p@5: 0.7164\n",
            "Epoch 33/50\n",
            "1566/1566 [==============================] - 149s 95ms/step - loss: 0.0343 - cosine_similarity: 0.6652 - p@1: 0.3298 - p@5: 0.7182\n",
            "Epoch 34/50\n",
            "1566/1566 [==============================] - 146s 93ms/step - loss: 0.0341 - cosine_similarity: 0.6676 - p@1: 0.3250 - p@5: 0.7194\n",
            "Epoch 35/50\n",
            "1566/1566 [==============================] - 151s 96ms/step - loss: 0.0339 - cosine_similarity: 0.6699 - p@1: 0.3226 - p@5: 0.7220\n",
            "Epoch 36/50\n",
            "1566/1566 [==============================] - 147s 94ms/step - loss: 0.0337 - cosine_similarity: 0.6719 - p@1: 0.3373 - p@5: 0.7236\n",
            "Epoch 37/50\n",
            "1566/1566 [==============================] - 147s 94ms/step - loss: 0.0335 - cosine_similarity: 0.6739 - p@1: 0.3314 - p@5: 0.7262\n",
            "Epoch 38/50\n",
            "1566/1566 [==============================] - 146s 93ms/step - loss: 0.0334 - cosine_similarity: 0.6756 - p@1: 0.3359 - p@5: 0.7271\n",
            "Epoch 39/50\n",
            "1566/1566 [==============================] - 149s 95ms/step - loss: 0.0333 - cosine_similarity: 0.6773 - p@1: 0.3258 - p@5: 0.7302\n",
            "Epoch 40/50\n",
            "1566/1566 [==============================] - 141s 90ms/step - loss: 0.0331 - cosine_similarity: 0.6788 - p@1: 0.3377 - p@5: 0.7313\n",
            "Epoch 41/50\n",
            "1566/1566 [==============================] - 143s 92ms/step - loss: 0.0330 - cosine_similarity: 0.6802 - p@1: 0.3338 - p@5: 0.7318\n",
            "Epoch 42/50\n",
            "1566/1566 [==============================] - 144s 92ms/step - loss: 0.0329 - cosine_similarity: 0.6815 - p@1: 0.3335 - p@5: 0.7322\n",
            "Epoch 43/50\n",
            "1566/1566 [==============================] - 141s 90ms/step - loss: 0.0328 - cosine_similarity: 0.6827 - p@1: 0.3321 - p@5: 0.7328\n",
            "Epoch 44/50\n",
            "1566/1566 [==============================] - 144s 92ms/step - loss: 0.0327 - cosine_similarity: 0.6839 - p@1: 0.3239 - p@5: 0.7362\n",
            "Epoch 45/50\n",
            "1566/1566 [==============================] - 143s 91ms/step - loss: 0.0326 - cosine_similarity: 0.6849 - p@1: 0.3375 - p@5: 0.7369\n",
            "Epoch 46/50\n",
            "1566/1566 [==============================] - 148s 95ms/step - loss: 0.0325 - cosine_similarity: 0.6859 - p@1: 0.3404 - p@5: 0.7363\n",
            "Epoch 47/50\n",
            "1566/1566 [==============================] - 142s 91ms/step - loss: 0.0324 - cosine_similarity: 0.6868 - p@1: 0.3429 - p@5: 0.7377\n",
            "Epoch 48/50\n",
            "1566/1566 [==============================] - 144s 92ms/step - loss: 0.0323 - cosine_similarity: 0.6877 - p@1: 0.3378 - p@5: 0.7380\n",
            "Epoch 49/50\n",
            "1566/1566 [==============================] - 141s 90ms/step - loss: 0.0323 - cosine_similarity: 0.6885 - p@1: 0.3425 - p@5: 0.7404\n",
            "Epoch 50/50\n",
            "1566/1566 [==============================] - 141s 90ms/step - loss: 0.0322 - cosine_similarity: 0.6892 - p@1: 0.3448 - p@5: 0.7397\n"
          ],
          "name": "stdout"
        }
      ]
    },
    {
      "cell_type": "code",
      "metadata": {
        "colab": {
          "base_uri": "https://localhost:8080/",
          "height": 282
        },
        "id": "o4mVBcG85Cac",
        "outputId": "5c5ba856-f0c5-4c25-d554-1c1b357c7d89"
      },
      "source": [
        "# Les accuracy sur les mots traduits dans history sont differentes de celles calculées par evaluate\n",
        "# ex : \"une\" peut être traduit par \"a\" / \"an\" / \"one\"\n",
        "# dans l'entrainement du reseau on aura 3 (xi,yi) avec xi vecteur de \"une\" et donc une perte pour :\n",
        "#           _ translate(x,precision) ∩ {a} = ∅\n",
        "#           _ translate(x,precision) ∩ {an} = ∅\n",
        "#           _ translate(x,precision) ∩ {one} = ∅\n",
        "# alors que dans evaluate, on aura une perte de 1 si l'intersection suivante vide :\n",
        "#             translate(x, precision) , {a, an, one}\n",
        "# -> si translate(\"une\", precision = 1) = [\"a\"], le réseau aura 2 perte (a!=an et a!=one)\n",
        "# mais evaluate n'aura pas de perte \n",
        "\n",
        "plt.plot(history.history[\"p@5\"], label=\"p@5\")\n",
        "plt.plot(history.history[\"p@1\"], label=\"p@1\")\n",
        "\n",
        "plt.legend()"
      ],
      "execution_count": null,
      "outputs": [
        {
          "output_type": "execute_result",
          "data": {
            "text/plain": [
              "<matplotlib.legend.Legend at 0x7efb65077908>"
            ]
          },
          "metadata": {
            "tags": []
          },
          "execution_count": 247
        },
        {
          "output_type": "display_data",
          "data": {
            "image/png": "[encoded data removed]",
            "text/plain": [
              "<Figure size 432x288 with 1 Axes>"
            ]
          },
          "metadata": {
            "tags": []
          }
        }
      ]
    },
    {
      "cell_type": "code",
      "metadata": {
        "colab": {
          "base_uri": "https://localhost:8080/"
        },
        "id": "kr05CwgzGibu",
        "outputId": "8d72b168-371c-4204-8dfe-dd9ab48e9d46"
      },
      "source": [
        "fr_en_trslt.translate([\"homme\", \"femme\", \"hiver\", \"juin\", \"avion\"], 4)"
      ],
      "execution_count": null,
      "outputs": [
        {
          "output_type": "execute_result",
          "data": {
            "text/plain": [
              "[('homme', ['man', 'woman', 'soldier', 'lawyer']),\n",
              " ('femme', ['woman', 'wife', 'mother', 'widowed']),\n",
              " ('hiver', ['winter', 'summer', 'autumn', 'winters']),\n",
              " ('juin', ['june', 'april', 'july', 'november']),\n",
              " ('avion', ['airplane', 'airplanes', 'aircraft', 'airliner'])]"
            ]
          },
          "metadata": {
            "tags": []
          },
          "execution_count": 137
        }
      ]
    },
    {
      "cell_type": "code",
      "metadata": {
        "colab": {
          "base_uri": "https://localhost:8080/"
        },
        "id": "UwkamrE7_6b6",
        "outputId": "06af96a4-1e80-4583-b778-c01c21f9bef5"
      },
      "source": [
        "print(\"Train: \", fr_en_trslt.evaluate(fr_en_dic, [1, 5, 10]))\n",
        "print(\"Test: \", fr_en_trslt.evaluate(fr_en_test_dic, [1, 5, 10]))"
      ],
      "execution_count": null,
      "outputs": [
        {
          "output_type": "stream",
          "text": [
            "Train:  {1: 0.8239450837876034, 5: 0.9254996971532404, 10: 0.9434686048859278}\n",
            "Test:  {1: 0.7369505494505495, 5: 0.8777472527472527, 10: 0.9093406593406593}\n"
          ],
          "name": "stdout"
        }
      ]
    },
    {
      "cell_type": "markdown",
      "metadata": {
        "id": "fjRgIEOZ_7RX"
      },
      "source": [
        "#### Méthode Procrustes\n",
        " \n",
        "Recherche de la matrice $W$ (avec $d_1=d_2$) vérifiant :\n",
        " \n",
        "$$\n",
        "    \\min_{W \\in \\mathbb{R}^{d_2 \\times d_1}, WW^T = I_{d_2}} \\sum_{i=1}^{i=n} \\|W x_i - y_i\\|^2 \n",
        "$$"
      ]
    },
    {
      "cell_type": "code",
      "metadata": {
        "colab": {
          "base_uri": "https://localhost:8080/"
        },
        "id": "puT1F6H6mdwK",
        "outputId": "d2f19d57-5342-4454-b691-c725d02f6f7c"
      },
      "source": [
        "fr_en_trslt.fit(method=\"procrustes\", n_refinement=5)"
      ],
      "execution_count": null,
      "outputs": [
        {
          "output_type": "execute_result",
          "data": {
            "text/plain": [
              "0.35970829318324526"
            ]
          },
          "metadata": {
            "tags": []
          },
          "execution_count": 14
        }
      ]
    },
    {
      "cell_type": "code",
      "metadata": {
        "colab": {
          "base_uri": "https://localhost:8080/",
          "height": 265
        },
        "id": "jInTJY6iIJlW",
        "outputId": "43230cd6-db3b-4c32-d575-f896b0d5e38c"
      },
      "source": [
        "def g(trslt, n):\n",
        "    indices = np.random.choice(range(len(trslt.dictionary.keys())), n, False)\n",
        "    pca = PCA(2).fit(trslt.target.vec)\n",
        "    \n",
        "    for i in indices:\n",
        "        word = list(trslt.dictionary.keys())[i]\n",
        "        translation = trslt.dictionary[word]\n",
        "       \n",
        "        source_vec = np.reshape(trslt.source.vec[np.where(trslt.source.voc == word)[0][0]], (1,trslt.source.embd_size))\n",
        "        target_vec=[]\n",
        "        for t in translation:\n",
        "            target_vec.append(trslt.target.vec[np.where(trslt.target.voc == t)[0][0]])\n",
        "        target_vec = np.reshape(target_vec, (len(translation),trslt.target.embd_size))\n",
        "        projection = np.dot(source_vec, trslt.W)\n",
        "        \n",
        "        source_point = pca.transform(source_vec)\n",
        "        target_point = pca.transform(target_vec)\n",
        "        projection_point = pca.transform(projection)\n",
        "        \n",
        "        #plt.scatter(source_point[:,0], source_point[:,1], c='blue')\n",
        "        #plt.annotate(word, (source_point[:,0], source_point[:,1]))\n",
        "\n",
        "        plt.scatter(target_point[:,0], target_point[:,1], c='red')\n",
        "        for t in range(len(translation)):\n",
        "            plt.annotate(translation[t], (target_point[t,0], target_point[t,1]))\n",
        "        plt.scatter(projection_point[:,0], projection_point[:,1], c='purple')\n",
        "        plt.annotate(\"W.\"+word, (projection_point[:,0], projection_point[:,1]))\n",
        "\n",
        "g(fr_en_trslt, 5)"
      ],
      "execution_count": null,
      "outputs": [
        {
          "output_type": "display_data",
          "data": {
            "image/png": "[encoded data removed]",
            "text/plain": [
              "<Figure size 432x288 with 1 Axes>"
            ]
          },
          "metadata": {
            "tags": []
          }
        }
      ]
    },
    {
      "cell_type": "code",
      "metadata": {
        "colab": {
          "base_uri": "https://localhost:8080/"
        },
        "id": "dgLKMnu1j5RM",
        "outputId": "7e127bb3-f9e5-4faf-defe-f3fb01f1458d"
      },
      "source": [
        "fr_en_trslt.translate([\"homme\", \"femme\", \"hiver\", \"juin\", \"avion\"], 4)"
      ],
      "execution_count": null,
      "outputs": [
        {
          "output_type": "execute_result",
          "data": {
            "text/plain": [
              "[('homme', ['man', 'politician', 'lawyer', 'businessman']),\n",
              " ('femme', ['woman', 'wife', 'daughter', 'mother']),\n",
              " ('hiver', ['winter', 'summer', 'olympics', 'autumn']),\n",
              " ('juin', ['june', 'april', 'july', 'march']),\n",
              " ('avion', ['airplane', 'airliner', 'aircraft', 'airplanes'])]"
            ]
          },
          "metadata": {
            "tags": []
          },
          "execution_count": 135
        }
      ]
    },
    {
      "cell_type": "code",
      "metadata": {
        "colab": {
          "base_uri": "https://localhost:8080/"
        },
        "id": "V27ACEeNrHjM",
        "outputId": "ba5389fe-b62f-4e1a-cf58-1a729e4c7811"
      },
      "source": [
        "print(\"Train: \", fr_en_trslt.evaluate(fr_en_dic, [1, 5, 10]))\n",
        "print(\"Test: \", fr_en_trslt.evaluate(fr_en_test_dic, [1, 5, 10]))"
      ],
      "execution_count": null,
      "outputs": [
        {
          "output_type": "stream",
          "text": [
            "Train:  {1: 0.8402988088027458, 5: 0.9319604280234202, 10: 0.9485160508782556}\n",
            "Test:  {1: 0.7802197802197802, 5: 0.8962912087912088, 10: 0.9210164835164835}\n"
          ],
          "name": "stdout"
        }
      ]
    },
    {
      "cell_type": "markdown",
      "metadata": {
        "id": "2ITMVUjEjzJL"
      },
      "source": [
        "#### Traducteur sans dictionnaire donné.\n",
        "\n",
        "(Un dictionnaire est construit en usant des mots communs (ayant une meme orthographe) aux deux langues."
      ]
    },
    {
      "cell_type": "code",
      "metadata": {
        "id": "qhLw5dJlig0C"
      },
      "source": [
        "fr_en_trslt2 = SupervisedTranslator(fr, en) "
      ],
      "execution_count": null,
      "outputs": []
    },
    {
      "cell_type": "code",
      "metadata": {
        "id": "AT95GNoLinwZ"
      },
      "source": [
        "fr_en_trslt2.fit(method=\"procrustes\")"
      ],
      "execution_count": null,
      "outputs": []
    },
    {
      "cell_type": "code",
      "metadata": {
        "colab": {
          "base_uri": "https://localhost:8080/"
        },
        "id": "hjo8yGvIiuP2",
        "outputId": "1a33412a-2cb3-4b79-88fe-e9414409a64c"
      },
      "source": [
        "fr_en_trslt2.translate([\"homme\", \"femme\", \"hiver\", \"juin\", \"avion\"], 4)"
      ],
      "execution_count": null,
      "outputs": [
        {
          "output_type": "execute_result",
          "data": {
            "text/plain": [
              "[('homme', ['politician', 'diplomat', 'man', 'businessman']),\n",
              " ('femme', ['woman', 'wife', 'daughter', 'widowed']),\n",
              " ('hiver', ['winter', 'summer', 'skiing', 'alpine']),\n",
              " ('juin', ['june', 'april', 'november', 'october']),\n",
              " ('avion', ['airliner', 'aircraft', 'airplane', 'cessna'])]"
            ]
          },
          "metadata": {
            "tags": []
          },
          "execution_count": 53
        }
      ]
    },
    {
      "cell_type": "code",
      "metadata": {
        "colab": {
          "base_uri": "https://localhost:8080/"
        },
        "id": "y1Fy-p04ivn6",
        "outputId": "64cd7377-fdce-428c-ee66-cbe64b6bf1b8"
      },
      "source": [
        "print(\"Test: \", fr_en_trslt2.evaluate(fr_en_test_dic, [1, 5, 10]))"
      ],
      "execution_count": null,
      "outputs": [
        {
          "output_type": "stream",
          "text": [
            "Test:  {1: 0.7651098901098901, 5: 0.8770604395604396, 10: 0.9086538461538461}\n"
          ],
          "name": "stdout"
        }
      ]
    },
    {
      "cell_type": "markdown",
      "metadata": {
        "id": "va4_n9qxz87b"
      },
      "source": [
        "Traduction anglais -> français en transposant la matrice de français -> anglais"
      ]
    },
    {
      "cell_type": "code",
      "metadata": {
        "colab": {
          "base_uri": "https://localhost:8080/"
        },
        "id": "W4fSgBxM0CAm",
        "outputId": "0a8178b9-4bc4-4ca1-cb05-00622dfb45c1"
      },
      "source": [
        "en_fr_trslt.W = fr_en_trslt.W.T\n",
        "print(\"Train: \", en_fr_trslt.evaluate(en_fr_dic, [1, 5, 10]))\n",
        "print(\"Test: \", en_fr_trslt.evaluate(en_fr_test_dic, [1, 5, 10]))"
      ],
      "execution_count": null,
      "outputs": [
        {
          "output_type": "stream",
          "text": [
            "Train:  {1: 0.8146124266342846, 5: 0.9145921878162315, 10: 0.9360453349524388}\n",
            "Test:  {1: 0.8080326752893124, 5: 0.9169503063308373, 10: 0.9319264805990469}\n"
          ],
          "name": "stdout"
        }
      ]
    },
    {
      "cell_type": "markdown",
      "metadata": {
        "id": "SjPjp5K61O-g"
      },
      "source": [
        "Traduction anglais -> français en entraînant"
      ]
    },
    {
      "cell_type": "code",
      "metadata": {
        "colab": {
          "base_uri": "https://localhost:8080/"
        },
        "id": "3RbRfD-u1Ole",
        "outputId": "2ed3ed1b-3e3e-4e11-c8d5-4889e5356faf"
      },
      "source": [
        "en_fr_trslt.fit(method=\"procrustes\")\n",
        "print(\"Train: \", en_fr_trslt.evaluate(en_fr_dic, [1, 5, 10]))\n",
        "print(\"Test: \", en_fr_trslt.evaluate(en_fr_test_dic, [1, 5, 10]))"
      ],
      "execution_count": null,
      "outputs": [
        {
          "output_type": "stream",
          "text": [
            "Train:  {1: 0.8295891519935236, 5: 0.9234972677595629, 10: 0.9415098158267557}\n",
            "Test:  {1: 0.7882913546630361, 5: 0.9046970728386657, 10: 0.9305650102110279}\n"
          ],
          "name": "stdout"
        }
      ]
    },
    {
      "cell_type": "markdown",
      "metadata": {
        "id": "Wp1logFmm4i0"
      },
      "source": [
        "#### Comparaison MGD Procuste"
      ]
    },
    {
      "cell_type": "markdown",
      "metadata": {
        "id": "Om-9RoMC6rpx"
      },
      "source": [
        "Influence de la taille du dictionnaire"
      ]
    },
    {
      "cell_type": "code",
      "metadata": {
        "id": "TGboMdBT6v90"
      },
      "source": [
        "# Procrustes\n",
        "stats = {}\n",
        "for i in range(200, 8201, 200):\n",
        "    fr_en_trslt = SupervisedTranslator(fr, en, fr_en_dic.loc[:i,:])\n",
        "    fr_en_trslt.fit(method=\"procrustes\")\n",
        "    stats[i] = fr_en_trslt.evaluate(fr_en_test_dic, [1, 5, 10])"
      ],
      "execution_count": null,
      "outputs": []
    },
    {
      "cell_type": "code",
      "metadata": {
        "id": "sgxpfOsrH6dL"
      },
      "source": [
        "# MGD\n",
        "stats2 = {}\n",
        "for i in range(200, 8201, 200):\n",
        "    print(i)\n",
        "    fr_en_trslt = SupervisedTranslator(fr, en, fr_en_dic.loc[:i,:])\n",
        "    fr_en_trslt.fit(method=\"NN\", step_size=0.1, batch_size=4, epochs=60, verbose=0)\n",
        "    stats2[i] = fr_en_trslt.evaluate(fr_en_test_dic, [1, 5, 10])"
      ],
      "execution_count": null,
      "outputs": []
    },
    {
      "cell_type": "code",
      "metadata": {
        "colab": {
          "base_uri": "https://localhost:8080/",
          "height": 280
        },
        "id": "AQug0SNfDk_R",
        "outputId": "ef4ce6c2-df7b-424f-a9f4-f0dab30309f7"
      },
      "source": [
        "colors = {1:\"blue\", 5:\"green\", 10:\"red\"}\n",
        "x = list(stats.keys())\n",
        "y = {}\n",
        "y2 = {}\n",
        "for i in stats.keys():\n",
        "    for j in stats[i].keys():\n",
        "        if j not in y.keys():\n",
        "            y[j] = []\n",
        "            y2[j] = []\n",
        "        y[j].append(stats[i][j])\n",
        "        y2[j].append(stats2[i][j])\n",
        "\n",
        "for i in y.keys():\n",
        "    plt.plot(x, y2[i], \"--\", c=colors[i], label=str(\"MGD : p@\"+str(i)))\n",
        "    plt.plot(x, y[i], c=colors[i], label=str(\"Procrustes : p@\"+str(i)))\n",
        "plt.xlabel(\"| D |\")\n",
        "plt.ylabel(\"Accuracy\")\n",
        "plt.legend();\n",
        "plt.savefig(\"MGD_vs_Procrutes.jpg\")"
      ],
      "execution_count": null,
      "outputs": [
        {
          "output_type": "display_data",
          "data": {
            "image/png": "[encoded data removed]",
            "text/plain": [
              "<Figure size 432x288 with 1 Axes>"
            ]
          },
          "metadata": {
            "tags": []
          }
        }
      ]
    },
    {
      "cell_type": "markdown",
      "metadata": {
        "id": "GVODBkYibb9J"
      },
      "source": [
        "### Traduction non supervisée\n",
        "\n",
        "1.   Apprentissage d'une projection linéaire W par Apprentissage Adversarial.\n",
        "\n",
        "     1.1 Discriminant\n",
        "\n",
        "     1.2 Apprentissage de la projection W  (Aussi, la matrice W est orthogonalisée pendant l'apprentissage)\n",
        "     \n",
        "\n",
        "2.   Rafinement de W apprise en 1 par Procrustes, Procrustes nécessite un dictionnaire donc un dictionnaire synthétique est d'abbord construit en utilisant la W apprise. \n",
        "\n",
        "     2.1 Dictionnaire synthétique\n",
        "\n",
        "     2.2 Procrustes\n",
        "\n",
        "3.   Rapprochement des projetés et des mots de la langue cible (équiv. étape plus proches voisins ci-haut) en utilisant la métrique CSLS.\n"
      ]
    },
    {
      "cell_type": "markdown",
      "metadata": {
        "id": "acemthJqsu0y"
      },
      "source": [
        "Entrainement GAN"
      ]
    },
    {
      "cell_type": "code",
      "metadata": {
        "id": "ElSmQ86bRXmv"
      },
      "source": [
        "epochs=70\n",
        "fr_en_trslt_un= UnsupervisedTranslator(fr,en)\n",
        "X,y,d = fr_en_trslt_un.process(fr_en_test_dic)              #test_dic # X et y sont utilises pour savoir quand diviser par 2 le learning rate\n",
        "d_history, g_history= fr_en_trslt_un.fit(epochs=epochs,batch_size=50,test_dic=fr_en_test_dic)\n",
        "fr_en_trslt_un.save_mapping(\"generator_mapping\")\n",
        "W=fr_en_trslt_un.W"
      ],
      "execution_count": null,
      "outputs": []
    },
    {
      "cell_type": "code",
      "metadata": {
        "id": "9v-ppxe3Ybk1"
      },
      "source": [
        "fr_en_trslt_un.translate([\"homme\", \"femme\", \"hiver\", \"juin\", \"avion\"], 4)"
      ],
      "execution_count": null,
      "outputs": []
    },
    {
      "cell_type": "markdown",
      "metadata": {
        "id": "50rFpogtskZs"
      },
      "source": [
        "Raffinement par Procruste itératif"
      ]
    },
    {
      "cell_type": "code",
      "metadata": {
        "id": "EfpOeRXFsHqg"
      },
      "source": [
        "params= (50,fr_en_trslt_un.source.vec.shape[0], 0)\n",
        "fr_en_trslt_un.procrustes_refinement(30, params)\n",
        "fr_en_trslt_un.save_mapping(\"refined_mapping\")"
      ],
      "execution_count": null,
      "outputs": []
    },
    {
      "cell_type": "code",
      "metadata": {
        "id": "bRvGiDl0tgC0"
      },
      "source": [
        "fr_en_trslt_un.translate([\"homme\", \"femme\", \"hiver\", \"juin\", \"avion\"], 4)"
      ],
      "execution_count": null,
      "outputs": []
    },
    {
      "cell_type": "code",
      "metadata": {
        "colab": {
          "base_uri": "https://localhost:8080/"
        },
        "id": "-XwpfYtkFnyD",
        "outputId": "4c1bd129-eea7-40b0-de06-2ea4414dc076"
      },
      "source": [
        "#(tout ce qui suit est l'ancienne execution avant l'ajout de la division du taux d'apprentissage par deux selon la métrique csls)\n",
        "epochs=70\n",
        "fr_en_trslt_un= UnsupervisedTranslator(fr,en)\n",
        "X,y,d = fr_en_trslt_un.process(fr_en_test_dic) #test_dic # X et y sont utilises pour savoir quand diviser par 2 le learning rate\n",
        "d_history, g_history= fr_en_trslt_un.fit(epochs=70,batch_size=50,test_dic=fr_en_test_dic)"
      ],
      "execution_count": null,
      "outputs": [
        {
          "output_type": "stream",
          "text": [
            "lr  0.098000005\n",
            "translations acc  {1: 0.0, 5: 0.0, 10: 0.0}\n",
            "lr  0.09604\n",
            "translations acc  {1: 0.0, 5: 0.0, 10: 0.0}\n",
            "lr  0.094119206\n",
            "translations acc  {1: 0.0, 5: 0.0, 10: 0.002364066193853428}\n",
            "lr  0.092236824\n",
            "translations acc  {1: 0.0, 5: 0.0, 10: 0.0}\n",
            "lr  0.09039209\n",
            "translations acc  {1: 0.0, 5: 0.0, 10: 0.0}\n",
            "4\n",
            "D_loss:  0.582 , D_acc1:  0.76 , G_loss:  1.009 , G_acc:  0.12\n",
            "0.8432182103413921\n",
            "lr  0.08858425\n",
            "translations acc  {1: 0.0, 5: 0.0, 10: 0.0}\n",
            "lr  0.08681256\n",
            "translations acc  {1: 0.0, 5: 0.0, 10: 0.0}\n",
            "lr  0.042538155\n",
            "translations acc  {1: 0.0, 5: 0.0, 10: 0.0}\n",
            "lr  0.04168739\n",
            "translations acc  {1: 0.0, 5: 0.0, 10: 0.0}\n",
            "lr  0.040853646\n",
            "translations acc  {1: 0.0, 5: 0.0, 10: 0.0}\n",
            "9\n",
            "D_loss:  0.491 , D_acc1:  0.9 , G_loss:  1.557 , G_acc:  0.08\n",
            "0.843258989753812\n",
            "lr  0.040036574\n",
            "translations acc  {1: 0.0, 5: 0.0, 10: 0.0}\n",
            "lr  0.01961792\n",
            "translations acc  {1: 0.0, 5: 0.0, 10: 0.0}\n",
            "lr  0.019225562\n",
            "translations acc  {1: 0.0, 5: 0.0, 10: 0.0}\n",
            "lr  0.01884105\n",
            "translations acc  {1: 0.0, 5: 0.0, 10: 0.0}\n",
            "lr  0.01846423\n",
            "translations acc  {1: 0.0, 5: 0.002352941176470588, 10: 0.002352941176470588}\n",
            "14\n",
            "D_loss:  0.406 , D_acc1:  0.94 , G_loss:  1.585 , G_acc:  0.06\n",
            "0.8486609099885825\n",
            "lr  0.009047473\n",
            "translations acc  {1: 0.0, 5: 0.0, 10: 0.0}\n",
            "lr  0.008866523\n",
            "translations acc  {1: 0.0, 5: 0.0, 10: 0.0}\n",
            "lr  0.0043445965\n",
            "translations acc  {1: 0.0, 5: 0.0, 10: 0.0}\n",
            "lr  0.0042577046\n",
            "translations acc  {1: 0.0, 5: 0.0, 10: 0.0}\n",
            "lr  0.0041725505\n",
            "translations acc  {1: 0.0, 5: 0.0, 10: 0.0023752969121140144}\n",
            "19\n",
            "D_loss:  0.43 , D_acc1:  0.92 , G_loss:  1.86 , G_acc:  0.04\n",
            "0.8518713217476213\n",
            "lr  0.0020445497\n",
            "translations acc  {1: 0.0, 5: 0.0, 10: 0.002398081534772182}\n",
            "lr  0.0020036588\n",
            "translations acc  {1: 0.0, 5: 0.0, 10: 0.0}\n",
            "lr  0.0019635856\n",
            "translations acc  {1: 0.0, 5: 0.0, 10: 0.0}\n",
            "lr  0.000962157\n",
            "translations acc  {1: 0.0, 5: 0.0, 10: 0.0}\n",
            "lr  0.0009429138\n",
            "translations acc  {1: 0.0, 5: 0.0, 10: 0.0}\n",
            "24\n",
            "D_loss:  0.381 , D_acc1:  0.98 , G_loss:  1.878 , G_acc:  0.0\n",
            "0.8499567285224503\n",
            "lr  0.0009240555\n",
            "translations acc  {1: 0.0, 5: 0.0, 10: 0.0}\n",
            "lr  0.0004527872\n",
            "translations acc  {1: 0.0, 5: 0.0, 10: 0.0}\n",
            "lr  0.00044373146\n",
            "translations acc  {1: 0.0, 5: 0.0, 10: 0.0}\n",
            "lr  0.00043485683\n",
            "translations acc  {1: 0.0, 5: 0.0, 10: 0.0}\n",
            "lr  0.00021307985\n",
            "translations acc  {1: 0.0, 5: 0.0, 10: 0.0}\n",
            "29\n",
            "D_loss:  0.379 , D_acc1:  1.0 , G_loss:  2.086 , G_acc:  0.0\n",
            "0.849156157435854\n",
            "lr  0.00020881825\n",
            "translations acc  {1: 0.0, 5: 0.0, 10: 0.0}\n",
            "lr  0.00020464188\n",
            "translations acc  {1: 0.0, 5: 0.0, 10: 0.0}\n",
            "lr  0.00010027452\n",
            "translations acc  {1: 0.0, 5: 0.0, 10: 0.0}\n",
            "lr  9.8269025e-05\n",
            "translations acc  {1: 0.0, 5: 0.0, 10: 0.0}\n",
            "lr  9.6303644e-05\n",
            "translations acc  {1: 0.0, 5: 0.0, 10: 0.0}\n",
            "34\n",
            "D_loss:  0.415 , D_acc1:  0.94 , G_loss:  1.864 , G_acc:  0.06\n",
            "0.8479185572548532\n",
            "lr  9.4377574e-05\n",
            "translations acc  {1: 0.0, 5: 0.0, 10: 0.0}\n",
            "lr  4.624501e-05\n",
            "translations acc  {1: 0.0, 5: 0.0, 10: 0.0}\n",
            "lr  4.532011e-05\n",
            "translations acc  {1: 0.0, 5: 0.0, 10: 0.0}\n",
            "lr  4.4413708e-05\n",
            "translations acc  {1: 0.0, 5: 0.0, 10: 0.0}\n",
            "lr  2.1762717e-05\n",
            "translations acc  {1: 0.0, 5: 0.0, 10: 0.0}\n",
            "39\n",
            "D_loss:  0.404 , D_acc1:  0.96 , G_loss:  1.821 , G_acc:  0.02\n",
            "0.8477113615784847\n",
            "lr  2.1327462e-05\n",
            "translations acc  {1: 0.0, 5: 0.0, 10: 0.0}\n",
            "lr  2.0900912e-05\n",
            "translations acc  {1: 0.0, 5: 0.0, 10: 0.0}\n",
            "lr  2.0482894e-05\n",
            "translations acc  {1: 0.0, 5: 0.0, 10: 0.0}\n",
            "lr  1.0036618e-05\n",
            "translations acc  {1: 0.0, 5: 0.0, 10: 0.0}\n",
            "lr  1e-05\n",
            "translations acc  {1: 0.0, 5: 0.0, 10: 0.0}\n",
            "44\n",
            "D_loss:  0.421 , D_acc1:  0.92 , G_loss:  1.802 , G_acc:  0.0\n",
            "0.8475582261462372\n",
            "lr  1e-05\n",
            "translations acc  {1: 0.0, 5: 0.0, 10: 0.0}\n",
            "lr  1e-05\n",
            "translations acc  {1: 0.0, 5: 0.0, 10: 0.0}\n",
            "lr  1e-05\n",
            "translations acc  {1: 0.0, 5: 0.0, 10: 0.0}\n",
            "lr  1e-05\n",
            "translations acc  {1: 0.0, 5: 0.0, 10: 0.0}\n",
            "lr  1e-05\n",
            "translations acc  {1: 0.0, 5: 0.0, 10: 0.0}\n",
            "49\n",
            "D_loss:  0.387 , D_acc1:  0.96 , G_loss:  1.801 , G_acc:  0.0\n",
            "0.8475682135775262\n",
            "lr  1e-05\n",
            "translations acc  {1: 0.0, 5: 0.0, 10: 0.0}\n",
            "lr  1e-05\n",
            "translations acc  {1: 0.0, 5: 0.0, 10: 0.0}\n",
            "lr  1e-05\n",
            "translations acc  {1: 0.0, 5: 0.0, 10: 0.0}\n",
            "lr  1e-05\n",
            "translations acc  {1: 0.0, 5: 0.0, 10: 0.0}\n",
            "lr  1e-05\n",
            "translations acc  {1: 0.0, 5: 0.0, 10: 0.0}\n",
            "54\n",
            "D_loss:  0.436 , D_acc1:  0.94 , G_loss:  1.92 , G_acc:  0.0\n",
            "0.8475762390701648\n",
            "lr  1e-05\n",
            "translations acc  {1: 0.0, 5: 0.0, 10: 0.0}\n",
            "lr  1e-05\n",
            "translations acc  {1: 0.0, 5: 0.0, 10: 0.0}\n",
            "lr  1e-05\n",
            "translations acc  {1: 0.0, 5: 0.0, 10: 0.0}\n",
            "lr  1e-05\n",
            "translations acc  {1: 0.0, 5: 0.0, 10: 0.0}\n",
            "lr  1e-05\n",
            "translations acc  {1: 0.0, 5: 0.0, 10: 0.0}\n",
            "59\n",
            "D_loss:  0.44 , D_acc1:  0.92 , G_loss:  1.703 , G_acc:  0.04\n",
            "0.8475862008485265\n",
            "lr  1e-05\n",
            "translations acc  {1: 0.0, 5: 0.0, 10: 0.0}\n",
            "lr  1e-05\n",
            "translations acc  {1: 0.0, 5: 0.0, 10: 0.0}\n",
            "lr  1e-05\n",
            "translations acc  {1: 0.0, 5: 0.0, 10: 0.0}\n",
            "lr  1e-05\n",
            "translations acc  {1: 0.0, 5: 0.0, 10: 0.0}\n",
            "lr  1e-05\n",
            "translations acc  {1: 0.0, 5: 0.0, 10: 0.0}\n",
            "64\n",
            "D_loss:  0.401 , D_acc1:  0.94 , G_loss:  1.831 , G_acc:  0.0\n",
            "0.8475946562219755\n",
            "lr  1e-05\n",
            "translations acc  {1: 0.0, 5: 0.0, 10: 0.0}\n",
            "lr  1e-05\n",
            "translations acc  {1: 0.0, 5: 0.0, 10: 0.0}\n",
            "lr  1e-05\n",
            "translations acc  {1: 0.0, 5: 0.0, 10: 0.0}\n",
            "lr  1e-05\n",
            "translations acc  {1: 0.0, 5: 0.0, 10: 0.0}\n",
            "lr  1e-05\n",
            "translations acc  {1: 0.0, 5: 0.0, 10: 0.0}\n",
            "69\n",
            "D_loss:  0.426 , D_acc1:  0.9 , G_loss:  1.769 , G_acc:  0.02\n",
            "0.8476040654785161\n"
          ],
          "name": "stdout"
        }
      ]
    },
    {
      "cell_type": "code",
      "metadata": {
        "colab": {
          "base_uri": "https://localhost:8080/"
        },
        "id": "TjHu0azKVzGx",
        "outputId": "ed3113e7-d362-40a6-8103-b5842b8bb3a2"
      },
      "source": [
        "#mais\n",
        "fr_en_trslt_un.translate([\"homme\", \"femme\", \"hiver\", \"juin\", \"avion\"], 4)"
      ],
      "execution_count": null,
      "outputs": [
        {
          "output_type": "execute_result",
          "data": {
            "text/plain": [
              "[('homme', ['grids', 'positioning', 'pins', 'flash']),\n",
              " ('femme', ['synchronization', 'synchronous', 'increments', 'dynamically']),\n",
              " ('hiver', ['pm', 'whitecaps', 'weekends', 'interiors']),\n",
              " ('juin', ['lots', 'actual', 'whats', 'makes']),\n",
              " ('avion', ['fulton', 'walnut', 'delano', 'genesee'])]"
            ]
          },
          "metadata": {
            "tags": []
          },
          "execution_count": 35
        }
      ]
    },
    {
      "cell_type": "code",
      "metadata": {
        "colab": {
          "base_uri": "https://localhost:8080/",
          "height": 573
        },
        "id": "I8P7Fj_qfiES",
        "outputId": "4dab940c-651b-437b-f422-d20edc2ff9c9"
      },
      "source": [
        "import matplotlib.pyplot as plt\n",
        "#loss\n",
        "g_loss_values = g_history['loss']\n",
        "d_loss_values = d_history['loss']\n",
        "epoch_vals = range(1, epochs, 5)\n",
        "plt.plot(epoch_vals, g_loss_values, 'b', label='Generator loss')\n",
        "plt.plot(epoch_vals, d_loss_values, 'r', label='Discriminator loss')\n",
        "plt.title('Generator and  Discriminator losses')\n",
        "plt.xlabel('Epochs')\n",
        "plt.ylabel('Loss')\n",
        "plt.legend()\n",
        "plt.show()\n",
        "\n",
        "#accuracy  \n",
        "g_acc_values = g_history['acc']\n",
        "d_acc_values = d_history['acc']\n",
        "epoch_vals = range(1, epochs, 5)\n",
        "plt.plot(epoch_vals, g_acc_values, 'b', label='Generator accuracy')\n",
        "plt.plot(epoch_vals, d_acc_values, 'r', label='Discriminator accuracy')\n",
        "plt.title('Generator and Discriminator accuracy')\n",
        "plt.xlabel('Epochs')\n",
        "plt.ylabel('Accuracy')\n",
        "plt.legend()\n",
        "plt.show()\n"
      ],
      "execution_count": null,
      "outputs": [
        {
          "output_type": "display_data",
          "data": {
            "image/png": "[encoded data removed]",
            "text/plain": [
              "<Figure size 432x288 with 1 Axes>"
            ]
          },
          "metadata": {
            "tags": []
          }
        },
        {
          "output_type": "display_data",
          "data": {
            "image/png": "[encoded data removed]",
            "text/plain": [
              "<Figure size 432x288 with 1 Axes>"
            ]
          },
          "metadata": {
            "tags": []
          }
        }
      ]
    }
  ]
}